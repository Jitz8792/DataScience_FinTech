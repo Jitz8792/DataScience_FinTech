{
 "cells": [
  {
   "cell_type": "markdown",
   "metadata": {},
   "source": [
    "TOPIC: Python Basics Variable"
   ]
  },
  {
   "cell_type": "markdown",
   "metadata": {},
   "source": [
    "1. Declare two variables, `x` and `y`, and assign them integer values. Swap the\n",
    "values of these variables without using any temporary variable."
   ]
  },
  {
   "cell_type": "code",
   "execution_count": 4,
   "metadata": {},
   "outputs": [
    {
     "name": "stdout",
     "output_type": "stream",
     "text": [
      "Org values of x and y is 20 and 25.\n",
      "New values of x and y after swapping is 25 and 20\n"
     ]
    }
   ],
   "source": [
    "x = 20 #integer value\n",
    "y = 25 #integer value\n",
    "print(f'Org values of x and y is {x} and {y}.') #printing the original values of x and y\n",
    "x, y = y, x #swapping the values with each other\n",
    "print(f'New values of x and y after swapping is {x} and {y}') #printing the new values of x and y"
   ]
  },
  {
   "cell_type": "markdown",
   "metadata": {},
   "source": [
    "2. Create a program that calculates the area of a rectangle. Take the length and\n",
    "width as inputs from the user and store them in variables. Calculate and\n",
    "display the area."
   ]
  },
  {
   "cell_type": "code",
   "execution_count": 9,
   "metadata": {},
   "outputs": [
    {
     "name": "stdout",
     "output_type": "stream",
     "text": [
      "Area=200\n"
     ]
    }
   ],
   "source": [
    "length = int(input(\"Enter the length of reactangle: \")) # Input function\n",
    "width = int(input(\"Enter the width of reactangle: \"))\n",
    "area = length * width\n",
    "print(\"Area=\"+str(area))  # Input - L=10 W=20."
   ]
  },
  {
   "cell_type": "markdown",
   "metadata": {},
   "source": [
    "3. Write a Python program that converts temperatures from Celsius to\n",
    "Fahrenheit. Take the temperature in Celsius as input, store it in a variable,\n",
    "convert it to Fahrenheit, and display the result."
   ]
  },
  {
   "cell_type": "code",
   "execution_count": 4,
   "metadata": {},
   "outputs": [
    {
     "name": "stdout",
     "output_type": "stream",
     "text": [
      "The temperature in Fahrenheit: 98.6\n"
     ]
    }
   ],
   "source": [
    "celsius = float(input(\"Enter the temperature in celsius = \"))   # Typecasting\n",
    "Fahrenheit = (celsius*9/5) + 32                                 # Formula\n",
    "print(\"The temperature in Fahrenheit:\",Fahrenheit)              # Input given 37C\n"
   ]
  },
  {
   "cell_type": "markdown",
   "metadata": {},
   "source": [
    "TOPIC: String Based Questions"
   ]
  },
  {
   "cell_type": "markdown",
   "metadata": {},
   "source": [
    "1. Write a Python program that takes a string as input and prints the length of\n",
    "the string."
   ]
  },
  {
   "cell_type": "code",
   "execution_count": 5,
   "metadata": {},
   "outputs": [
    {
     "name": "stdout",
     "output_type": "stream",
     "text": [
      "THE LENGTH OF THE STRING :  8\n"
     ]
    }
   ],
   "source": [
    "name = input(\"Enter your Name : \") # Input given from user - jitendra\n",
    "length = len(name)\n",
    "print(\"THE LENGTH OF THE STRING : \",length)"
   ]
  },
  {
   "cell_type": "markdown",
   "metadata": {},
   "source": [
    "Create a program that takes a sentence from the user and counts the number\n",
    "of vowels (a, e, i, o, u) in the string."
   ]
  },
  {
   "cell_type": "code",
   "execution_count": 7,
   "metadata": {},
   "outputs": [
    {
     "name": "stdout",
     "output_type": "stream",
     "text": [
      "Number of vowels: 6\n"
     ]
    }
   ],
   "source": [
    "user_input = input(\"Enter a sentence: \")      # input given as - my name is jitendra\n",
    "vowels = \"aeiouAEIOU\"  # Both lowercase and uppercase vowels\n",
    "\n",
    "vowel_count = 0\n",
    "for char in user_input:\n",
    "    if char in vowels:\n",
    "        vowel_count += 1\n",
    "\n",
    "print(\"Number of vowels:\", vowel_count)"
   ]
  },
  {
   "cell_type": "markdown",
   "metadata": {},
   "source": [
    "3. Given a string, reverse the order of characters using string slicing and print\n",
    "the reversed string."
   ]
  },
  {
   "cell_type": "code",
   "execution_count": 8,
   "metadata": {},
   "outputs": [
    {
     "name": "stdout",
     "output_type": "stream",
     "text": [
      "The reverse of the string is olleh\n"
     ]
    }
   ],
   "source": [
    "string = input(\"enter the value of string : \")   # Input given as hello\n",
    "string_reverse = string[ : :-1]\n",
    "print(\"The reverse of the string is\",string_reverse)"
   ]
  },
  {
   "cell_type": "markdown",
   "metadata": {},
   "source": [
    "4.Write a program that takes a string as input and checks if it is a palindrome\n",
    "(reads the same forwards and backwards)."
   ]
  },
  {
   "cell_type": "code",
   "execution_count": 9,
   "metadata": {},
   "outputs": [
    {
     "name": "stdout",
     "output_type": "stream",
     "text": [
      "Palindrome\n"
     ]
    }
   ],
   "source": [
    "s = input(\"Enter string: \")   #input given as - jalaj\n",
    "\n",
    "if s == s[::-1]: \n",
    "    print(\"Palindrome\")\n",
    "else:\n",
    "    print(\"Not a palindrome\")"
   ]
  },
  {
   "cell_type": "markdown",
   "metadata": {},
   "source": [
    "5.Create a program that takes a string as input and removes all the spaces from\n",
    "it. Print the modified string without spaces."
   ]
  },
  {
   "cell_type": "code",
   "execution_count": 11,
   "metadata": {},
   "outputs": [
    {
     "name": "stdout",
     "output_type": "stream",
     "text": [
      "New String: mynameisjitendra\n"
     ]
    }
   ],
   "source": [
    "s_org = input('Enter a string:') # Replace function is used to relace a word with new and also we can use to remove all spaces.\n",
    "s_new = s_org.replace(' ','')\n",
    "print('New String:',s_new)    # Input given as - my name is jitendra"
   ]
  },
  {
   "cell_type": "code",
   "execution_count": 1,
   "metadata": {},
   "outputs": [
    {
     "name": "stdout",
     "output_type": "stream",
     "text": [
      "my name is jitendra\n"
     ]
    }
   ],
   "source": [
    "s=print(\"my name is jitendra\")"
   ]
  }
 ],
 "metadata": {
  "kernelspec": {
   "display_name": "Python 3",
   "language": "python",
   "name": "python3"
  },
  "language_info": {
   "codemirror_mode": {
    "name": "ipython",
    "version": 3
   },
   "file_extension": ".py",
   "mimetype": "text/x-python",
   "name": "python",
   "nbconvert_exporter": "python",
   "pygments_lexer": "ipython3",
   "version": "3.12.0"
  },
  "orig_nbformat": 4
 },
 "nbformat": 4,
 "nbformat_minor": 2
}
