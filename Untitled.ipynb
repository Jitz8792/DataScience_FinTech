{
 "cells": [
  {
   "cell_type": "code",
   "execution_count": 2,
   "id": "7c31700a-c667-4ef3-9d0a-769a993463b4",
   "metadata": {},
   "outputs": [
    {
     "name": "stdout",
     "output_type": "stream",
     "text": [
      "Jitendra\n"
     ]
    }
   ],
   "source": [
    "print(\"Jitendra\")"
   ]
  },
  {
   "cell_type": "code",
   "execution_count": null,
   "id": "61b63943-0ab0-4739-96d5-bd6dfd8ecebf",
   "metadata": {},
   "outputs": [],
   "source": []
  }
 ],
 "metadata": {
  "kernelspec": {
   "display_name": "Python 3 (ipykernel)",
   "language": "python",
   "name": "python3"
  },
  "language_info": {
   "codemirror_mode": {
    "name": "ipython",
    "version": 3
   },
   "file_extension": ".py",
   "mimetype": "text/x-python",
   "name": "python",
   "nbconvert_exporter": "python",
   "pygments_lexer": "ipython3",
   "version": "3.12.2"
  }
 },
 "nbformat": 4,
 "nbformat_minor": 5
}
